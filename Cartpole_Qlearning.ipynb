{
  "nbformat": 4,
  "nbformat_minor": 0,
  "metadata": {
    "colab": {
      "name": "Cartpole-Qlearning.ipynb",
      "provenance": [],
      "collapsed_sections": []
    },
    "kernelspec": {
      "name": "python3",
      "display_name": "Python 3"
    }
  },
  "cells": [
    {
      "cell_type": "code",
      "metadata": {
        "colab": {
          "base_uri": "https://localhost:8080/"
        },
        "id": "knw68mS9-uen",
        "outputId": "200335ba-be1b-4b73-8543-96d2f94457a6"
      },
      "source": [
        "!pip install numpy\r\n",
        "!pip install gym\r\n",
        "\r\n",
        "import numpy as np #for our Qtable\r\n",
        "import gym #for our cartpole Environment\r\n",
        "import random #to generate random numbers\r\n",
        "import pandas\r\n",
        "\r\n",
        "#code for rendering gui\r\n",
        "!apt-get install python-opengl -y\r\n",
        "!apt install xvfb -y\r\n",
        "!pip install pyvirtualdisplay\r\n",
        "!pip install pyglet==1.4.0\r\n",
        "!apt-get install x11-utils\r\n",
        "\r\n",
        "import matplotlib.pyplot as plt\r\n",
        "from IPython import display as ipythondisplay\r\n",
        "from pyvirtualdisplay import Display\r\n",
        "display = Display(visible=0, size=(1400, 900))\r\n",
        "display.start()\r\n",
        "\r\n",
        "env = gym.make(\"CartPole-v1\")"
      ],
      "execution_count": 1,
      "outputs": [
        {
          "output_type": "stream",
          "text": [
            "Requirement already satisfied: numpy in /usr/local/lib/python3.6/dist-packages (1.19.5)\n",
            "Requirement already satisfied: gym in /usr/local/lib/python3.6/dist-packages (0.17.3)\n",
            "Requirement already satisfied: numpy>=1.10.4 in /usr/local/lib/python3.6/dist-packages (from gym) (1.19.5)\n",
            "Requirement already satisfied: pyglet<=1.5.0,>=1.4.0 in /usr/local/lib/python3.6/dist-packages (from gym) (1.5.0)\n",
            "Requirement already satisfied: cloudpickle<1.7.0,>=1.2.0 in /usr/local/lib/python3.6/dist-packages (from gym) (1.3.0)\n",
            "Requirement already satisfied: scipy in /usr/local/lib/python3.6/dist-packages (from gym) (1.4.1)\n",
            "Requirement already satisfied: future in /usr/local/lib/python3.6/dist-packages (from pyglet<=1.5.0,>=1.4.0->gym) (0.16.0)\n",
            "Reading package lists... Done\n",
            "Building dependency tree       \n",
            "Reading state information... Done\n",
            "Suggested packages:\n",
            "  libgle3\n",
            "The following NEW packages will be installed:\n",
            "  python-opengl\n",
            "0 upgraded, 1 newly installed, 0 to remove and 12 not upgraded.\n",
            "Need to get 496 kB of archives.\n",
            "After this operation, 5,416 kB of additional disk space will be used.\n",
            "Get:1 http://archive.ubuntu.com/ubuntu bionic/universe amd64 python-opengl all 3.1.0+dfsg-1 [496 kB]\n",
            "Fetched 496 kB in 1s (731 kB/s)\n",
            "Selecting previously unselected package python-opengl.\n",
            "(Reading database ... 146364 files and directories currently installed.)\n",
            "Preparing to unpack .../python-opengl_3.1.0+dfsg-1_all.deb ...\n",
            "Unpacking python-opengl (3.1.0+dfsg-1) ...\n",
            "Setting up python-opengl (3.1.0+dfsg-1) ...\n",
            "Reading package lists... Done\n",
            "Building dependency tree       \n",
            "Reading state information... Done\n",
            "The following NEW packages will be installed:\n",
            "  xvfb\n",
            "0 upgraded, 1 newly installed, 0 to remove and 12 not upgraded.\n",
            "Need to get 784 kB of archives.\n",
            "After this operation, 2,270 kB of additional disk space will be used.\n",
            "Get:1 http://archive.ubuntu.com/ubuntu bionic-updates/universe amd64 xvfb amd64 2:1.19.6-1ubuntu4.8 [784 kB]\n",
            "Fetched 784 kB in 1s (1,098 kB/s)\n",
            "Selecting previously unselected package xvfb.\n",
            "(Reading database ... 148719 files and directories currently installed.)\n",
            "Preparing to unpack .../xvfb_2%3a1.19.6-1ubuntu4.8_amd64.deb ...\n",
            "Unpacking xvfb (2:1.19.6-1ubuntu4.8) ...\n",
            "Setting up xvfb (2:1.19.6-1ubuntu4.8) ...\n",
            "Processing triggers for man-db (2.8.3-2ubuntu0.1) ...\n",
            "Collecting pyvirtualdisplay\n",
            "  Downloading https://files.pythonhosted.org/packages/ad/05/6568620fed440941b704664b9cfe5f836ad699ac7694745e7787fbdc8063/PyVirtualDisplay-2.0-py2.py3-none-any.whl\n",
            "Collecting EasyProcess\n",
            "  Downloading https://files.pythonhosted.org/packages/48/3c/75573613641c90c6d094059ac28adb748560d99bd27ee6f80cce398f404e/EasyProcess-0.3-py2.py3-none-any.whl\n",
            "Installing collected packages: EasyProcess, pyvirtualdisplay\n",
            "Successfully installed EasyProcess-0.3 pyvirtualdisplay-2.0\n",
            "Collecting pyglet==1.4.0\n",
            "\u001b[?25l  Downloading https://files.pythonhosted.org/packages/8a/2e/74069cfb668afcb29f0c7777c863d0b1d831accf61558f46cebf34bcfe07/pyglet-1.4.0-py2.py3-none-any.whl (1.0MB)\n",
            "\u001b[K     |████████████████████████████████| 1.0MB 5.5MB/s \n",
            "\u001b[?25hRequirement already satisfied: future in /usr/local/lib/python3.6/dist-packages (from pyglet==1.4.0) (0.16.0)\n",
            "Installing collected packages: pyglet\n",
            "  Found existing installation: pyglet 1.5.0\n",
            "    Uninstalling pyglet-1.5.0:\n",
            "      Successfully uninstalled pyglet-1.5.0\n",
            "Successfully installed pyglet-1.4.0\n",
            "Reading package lists... Done\n",
            "Building dependency tree       \n",
            "Reading state information... Done\n",
            "The following additional packages will be installed:\n",
            "  libxxf86dga1\n",
            "Suggested packages:\n",
            "  mesa-utils\n",
            "The following NEW packages will be installed:\n",
            "  libxxf86dga1 x11-utils\n",
            "0 upgraded, 2 newly installed, 0 to remove and 12 not upgraded.\n",
            "Need to get 209 kB of archives.\n",
            "After this operation, 711 kB of additional disk space will be used.\n",
            "Get:1 http://archive.ubuntu.com/ubuntu bionic/main amd64 libxxf86dga1 amd64 2:1.1.4-1 [13.7 kB]\n",
            "Get:2 http://archive.ubuntu.com/ubuntu bionic/main amd64 x11-utils amd64 7.7+3build1 [196 kB]\n",
            "Fetched 209 kB in 1s (377 kB/s)\n",
            "Selecting previously unselected package libxxf86dga1:amd64.\n",
            "(Reading database ... 148726 files and directories currently installed.)\n",
            "Preparing to unpack .../libxxf86dga1_2%3a1.1.4-1_amd64.deb ...\n",
            "Unpacking libxxf86dga1:amd64 (2:1.1.4-1) ...\n",
            "Selecting previously unselected package x11-utils.\n",
            "Preparing to unpack .../x11-utils_7.7+3build1_amd64.deb ...\n",
            "Unpacking x11-utils (7.7+3build1) ...\n",
            "Setting up libxxf86dga1:amd64 (2:1.1.4-1) ...\n",
            "Setting up x11-utils (7.7+3build1) ...\n",
            "Processing triggers for man-db (2.8.3-2ubuntu0.1) ...\n",
            "Processing triggers for libc-bin (2.27-3ubuntu1.3) ...\n",
            "/sbin/ldconfig.real: /usr/local/lib/python3.6/dist-packages/ideep4py/lib/libmkldnn.so.0 is not a symbolic link\n",
            "\n"
          ],
          "name": "stdout"
        }
      ]
    },
    {
      "cell_type": "code",
      "metadata": {
        "colab": {
          "base_uri": "https://localhost:8080/"
        },
        "id": "i90LQhMX_Lvj",
        "outputId": "80c260a4-096d-41c9-a1e2-f53c4eb229f3"
      },
      "source": [
        "action_size = env.action_space.n\r\n",
        "state_size = env.observation_space.shape[0]\r\n",
        "print(env.action_space,env.observation_space)\r\n",
        "print(action_size, state_size)"
      ],
      "execution_count": 2,
      "outputs": [
        {
          "output_type": "stream",
          "text": [
            "Discrete(2) Box(-3.4028234663852886e+38, 3.4028234663852886e+38, (4,), float32)\n",
            "2 4\n"
          ],
          "name": "stdout"
        }
      ]
    },
    {
      "cell_type": "code",
      "metadata": {
        "id": "YLZNygY0_OLa"
      },
      "source": [
        "total_episodes = 10       # Total episodes\r\n",
        "learning_rate = 0.2          # Learning rate\r\n",
        "max_steps = 20               # Max steps per episode\r\n",
        "gamma = 0.95                 # Discounting rate\r\n",
        "\r\n",
        "# Exploration parameters\r\n",
        "epsilon = 0.2                 # Exploration rate\r\n",
        "max_epsilon = 0.2             # Exploration probability at start\r\n",
        "min_epsilon = 0.01            # Minimum exploration probability \r\n",
        "decay_rate = 0.005            # Exponential decay rate for exploration prob\r\n",
        "\r\n",
        "#discreization parameters\r\n",
        "n_bins = 8\r\n",
        "n_bins_angle = 10\r\n",
        "# Number of states is huge so in order to simplify the situation\r\n",
        "# we discretize the space to: 10 ** number_of_features\r\n",
        "cart_position_bins = pandas.cut([-2.4, 2.4], bins=n_bins, retbins=True)[1][1:-1]\r\n",
        "pole_angle_bins = pandas.cut([-2, 2], bins=n_bins_angle, retbins=True)[1][1:-1]\r\n",
        "cart_velocity_bins = pandas.cut([-1, 1], bins=n_bins, retbins=True)[1][1:-1]\r\n",
        "angle_rate_bins = pandas.cut([-3.5, 3.5], bins=n_bins_angle, retbins=True)[1][1:-1]"
      ],
      "execution_count": 3,
      "outputs": []
    },
    {
      "cell_type": "code",
      "metadata": {
        "id": "uxdPR_5w_W6e"
      },
      "source": [
        "def to_bin(value, bins):\r\n",
        "    return np.digitize(x=[value], bins=bins)[0]"
      ],
      "execution_count": 4,
      "outputs": []
    },
    {
      "cell_type": "code",
      "metadata": {
        "id": "teTImpOG_Y5L"
      },
      "source": [
        "def build_state(features):\r\n",
        "    \r\n",
        "    return int(\"\".join(map(lambda feature: str(int(feature)), features)))\r\n",
        "\r\n"
      ],
      "execution_count": 5,
      "outputs": []
    },
    {
      "cell_type": "code",
      "metadata": {
        "id": "sh6c9uDj_gK0"
      },
      "source": [
        "def getQvalue(state, action):\r\n",
        "  return qtable.get((state, action), 0.0)"
      ],
      "execution_count": 6,
      "outputs": []
    },
    {
      "cell_type": "code",
      "metadata": {
        "id": "tNkgIp-G_h9_"
      },
      "source": [
        "def getMaxQ(state):\r\n",
        "  q = [getQvalue(state, a) for a in range(action_size)]\r\n",
        "  maxQ = max(q)\r\n",
        "  return  maxQ, q.index(maxQ)"
      ],
      "execution_count": 7,
      "outputs": []
    },
    {
      "cell_type": "code",
      "metadata": {
        "colab": {
          "base_uri": "https://localhost:8080/",
          "height": 320
        },
        "id": "3cP7ax2n_cbZ",
        "outputId": "3073b498-1438-42d2-fc5d-78ca5264a739"
      },
      "source": [
        "qtable = {}\r\n",
        "\r\n",
        "#training the model for total_episodes iterations\r\n",
        "\r\n",
        "# List of rewards\r\n",
        "rewards = []\r\n",
        "\r\n",
        "# For life or until learning is stopped\r\n",
        "for episode in range(total_episodes): #20,000 episodes\r\n",
        "    # Reset the environment\r\n",
        "    cart_position, cart_velocity, pole_angle,angle_rate_of_change = env.reset()\r\n",
        "   \r\n",
        "    state = build_state([to_bin(cart_position, cart_position_bins),\r\n",
        "                         to_bin(pole_angle, pole_angle_bins),\r\n",
        "                         to_bin(cart_velocity, cart_velocity_bins),\r\n",
        "                         to_bin(angle_rate_of_change, angle_rate_bins)])\r\n",
        "    step = 0\r\n",
        "    done = False\r\n",
        "    total_rewards = 0\r\n",
        "    #-----display\r\n",
        "    #prev_screen = env.render(mode='rgb_array')\r\n",
        "    #plt.imshow(prev_screen)\r\n",
        "    for step in range(max_steps): #every episode can have a maximum of 99 time steps\r\n",
        "        # Choose an action a in the current world state (s)\r\n",
        "        ## First we randomize a number\r\n",
        "        exp_exp_tradeoff = random.uniform(0, 1)\r\n",
        "        screen = env.render(mode='rgb_array')\r\n",
        "        plt.imshow(screen)\r\n",
        "        ipythondisplay.clear_output(wait=True)\r\n",
        "        ipythondisplay.display(plt.gcf())\r\n",
        "       \r\n",
        "        \r\n",
        "        ## If this number > greater than epsilon --> exploitation (taking the biggest Q value for this state)\r\n",
        "        if exp_exp_tradeoff > epsilon: #select an action with the maximum q-value\r\n",
        "            maxqval, action = getMaxQ(state)\r\n",
        "            print(exp_exp_tradeoff, \"action\", action)\r\n",
        "\r\n",
        "        # Else doing a random choice --> exploration\r\n",
        "        else:\r\n",
        "            action = env.action_space.sample()\r\n",
        "            print(\"action random\", action)\r\n",
        "        #print(action)\r\n",
        "        \r\n",
        "        # Take the action (a) and observe the outcome state(s') and reward (r)\r\n",
        "        observation, reward, done, info = env.step(action)\r\n",
        "\r\n",
        "        cart_position, pole_angle, cart_velocity, angle_rate_of_change = observation\r\n",
        "        new_state = build_state([to_bin(cart_position, cart_position_bins),\r\n",
        "                          to_bin(pole_angle, pole_angle_bins),\r\n",
        "                          to_bin(cart_velocity, cart_velocity_bins),\r\n",
        "                          to_bin(angle_rate_of_change, angle_rate_bins)])\r\n",
        "\r\n",
        "        # Update Q(s,a):= Q(s,a) + lr [R(s,a) + gamma * max Q(s',a') - Q(s,a)]\r\n",
        "        # qtable[new_state,:] : all the actions we can take from new state\r\n",
        "        maxqval, action = getMaxQ(new_state)\r\n",
        "        qtable[(state, action)] = getQvalue(state, action) + learning_rate * (reward + gamma *maxqval - getQvalue(state, action))\r\n",
        "        \r\n",
        "        total_rewards += reward\r\n",
        "        \r\n",
        "        # Our new state is state\r\n",
        "        state = new_state\r\n",
        "        \r\n",
        "        # If done (if we're dead) : finish episode\r\n",
        "        if done == True: \r\n",
        "            break\r\n",
        "        \r\n",
        "    # Reduce epsilon (because we need less and less exploration)\r\n",
        "    epsilon = min_epsilon + (max_epsilon - min_epsilon)*np.exp(-decay_rate*episode) \r\n",
        "    rewards.append(total_rewards)\r\n",
        "    ipythondisplay.clear_output(wait=True)\r\n",
        "print(rewards,max(rewards))\r\n",
        "print (\"Score over time: \" +  str(sum(rewards)/total_episodes))\r\n",
        "\r\n",
        "\r\n",
        "#testing the agent\r\n",
        "env.reset()\r\n",
        "\r\n"
      ],
      "execution_count": 8,
      "outputs": [
        {
          "output_type": "stream",
          "text": [
            "[10.0, 13.0, 11.0, 10.0, 20.0, 11.0, 10.0, 10.0, 12.0, 10.0] 20.0\n",
            "Score over time: 11.7\n"
          ],
          "name": "stdout"
        },
        {
          "output_type": "execute_result",
          "data": {
            "text/plain": [
              "array([ 0.02175785, -0.01651906, -0.00972793, -0.00956134])"
            ]
          },
          "metadata": {
            "tags": []
          },
          "execution_count": 8
        },
        {
          "output_type": "display_data",
          "data": {
            "image/png": "[encoded data removed]",
            "text/plain": [
              "<Figure size 432x288 with 1 Axes>"
            ]
          },
          "metadata": {
            "tags": [],
            "needs_background": "light"
          }
        }
      ]
    },
    {
      "cell_type": "code",
      "metadata": {
        "colab": {
          "base_uri": "https://localhost:8080/",
          "height": 269
        },
        "id": "PlS8WUAq_n-A",
        "outputId": "be587bd1-5913-4427-8094-df801b19b1af"
      },
      "source": [
        "for episode in range(5):\r\n",
        "    cart_position, pole_angle, cart_velocity, angle_rate_of_change = env.reset()\r\n",
        "   \r\n",
        "    state = build_state([to_bin(cart_position, cart_position_bins),\r\n",
        "                         to_bin(pole_angle, pole_angle_bins),\r\n",
        "                         to_bin(cart_velocity, cart_velocity_bins),\r\n",
        "                         to_bin(angle_rate_of_change, angle_rate_bins)])\r\n",
        "    step = 0\r\n",
        "    done = False\r\n",
        "    print(\"****************************************************\")\r\n",
        "    print(\"EPISODE \", episode)\r\n",
        "    prev_screen = env.render(mode='rgb_array')\r\n",
        "    plt.imshow(prev_screen)\r\n",
        "    for step in range(max_steps):\r\n",
        "        \r\n",
        "        # Take the action (index) that have the maximum expected future reward given that state\r\n",
        "        maxqval, action = getMaxQ(state)\r\n",
        "        \r\n",
        "        observation, reward, done, info = env.step(action)\r\n",
        "        cart_position, pole_angle, cart_velocity, angle_rate_of_change = observation\r\n",
        "        new_state = build_state([to_bin(cart_position, cart_position_bins),\r\n",
        "                          to_bin(pole_angle, pole_angle_bins),\r\n",
        "                          to_bin(cart_velocity, cart_velocity_bins),\r\n",
        "                          to_bin(angle_rate_of_change, angle_rate_bins)])\r\n",
        "        screen = env.render(mode='rgb_array')\r\n",
        "        plt.imshow(screen)\r\n",
        "        ipythondisplay.clear_output(wait=True)\r\n",
        "        ipythondisplay.display(plt.gcf())\r\n",
        "        if done:\r\n",
        "          break\r\n",
        "        state = new_state\r\n",
        "    ipythondisplay.clear_output(wait=True)\r\n",
        "env.close()"
      ],
      "execution_count": 9,
      "outputs": [
        {
          "output_type": "display_data",
          "data": {
            "image/png": "[encoded data removed]",
            "text/plain": [
              "<Figure size 432x288 with 1 Axes>"
            ]
          },
          "metadata": {
            "tags": [],
            "needs_background": "light"
          }
        }
      ]
    }
  ]
}